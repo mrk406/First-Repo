{
 "cells": [
  {
   "cell_type": "markdown",
   "id": "fe71f179-f066-48a2-80c9-6d3d09fab777",
   "metadata": {},
   "source": [
    "# Data Science Tools and Ecosystem"
   ]
  },
  {
   "cell_type": "markdown",
   "id": "62569f81-89a0-4eab-aa6e-d49ab763ac21",
   "metadata": {},
   "source": [
    "## Author\n",
    "Matthew Kolb"
   ]
  },
  {
   "cell_type": "markdown",
   "id": "8f189a15-c382-4adc-b9a4-d45d5b239f2a",
   "metadata": {},
   "source": [
    "In this notebook, Data Science Tools and Ecosystem are summarized."
   ]
  },
  {
   "cell_type": "markdown",
   "id": "100c21dd-63b5-488d-bd3f-68c5944d3745",
   "metadata": {},
   "source": [
    "**Objectives:**\n",
    "- List popular Data Science Languages\n",
    "- List common Data Science Libraries\n",
    "- List Data Science Tools"
   ]
  },
  {
   "cell_type": "markdown",
   "id": "a3288891-e620-4887-9e45-af882727eecd",
   "metadata": {},
   "source": [
    "Some of the popular languages that Data Scientists use are:\n",
    "1. Python\n",
    "2. Java\n",
    "3. R"
   ]
  },
  {
   "cell_type": "markdown",
   "id": "25b071ee-0fcd-4c21-b86d-3f60aa08934b",
   "metadata": {},
   "source": [
    "Some of the commonly used libraries used by Data Scientists include:\n",
    "1. NumPy\n",
    "2. TensorFlow\n",
    "3. PyTorch"
   ]
  },
  {
   "cell_type": "markdown",
   "id": "db1c2f13-2bb7-4c45-9fa7-8fe9df3f725a",
   "metadata": {},
   "source": [
    "| Data Science Tools |\n",
    "| --- |\n",
    "| Apache Spark |\n",
    "| Jupyter Notebook |\n",
    "| SQL |\n"
   ]
  },
  {
   "cell_type": "markdown",
   "id": "42db8f01-9946-4ac1-93f6-0d99812de1e3",
   "metadata": {},
   "source": [
    "### Below are a few examples of evaluating arithmetic expressions in Python"
   ]
  },
  {
   "cell_type": "code",
   "execution_count": 3,
   "id": "c5ec9af9-83d6-49eb-a8f9-4cbb5e5ba3ff",
   "metadata": {},
   "outputs": [
    {
     "data": {
      "text/plain": [
       "17"
      ]
     },
     "execution_count": 3,
     "metadata": {},
     "output_type": "execute_result"
    }
   ],
   "source": [
    "# This is a simple arithmetic expression to multiply then add integers\n",
    "(3*4)+5"
   ]
  },
  {
   "cell_type": "code",
   "execution_count": 4,
   "id": "eb5d2616-e3f8-4d49-8d72-16c3703f772a",
   "metadata": {},
   "outputs": [
    {
     "data": {
      "text/plain": [
       "3.3333333333333335"
      ]
     },
     "execution_count": 4,
     "metadata": {},
     "output_type": "execute_result"
    }
   ],
   "source": [
    "# This will convert 200 minutes to hours by diving by 60\n",
    "200/60"
   ]
  },
  {
   "cell_type": "code",
   "execution_count": null,
   "id": "f2567232-a042-4729-851e-b8b89121ba6b",
   "metadata": {},
   "outputs": [],
   "source": []
  }
 ],
 "metadata": {
  "kernelspec": {
   "display_name": "Python 3 (ipykernel)",
   "language": "python",
   "name": "python3"
  },
  "language_info": {
   "codemirror_mode": {
    "name": "ipython",
    "version": 3
   },
   "file_extension": ".py",
   "mimetype": "text/x-python",
   "name": "python",
   "nbconvert_exporter": "python",
   "pygments_lexer": "ipython3",
   "version": "3.12.4"
  }
 },
 "nbformat": 4,
 "nbformat_minor": 5
}
